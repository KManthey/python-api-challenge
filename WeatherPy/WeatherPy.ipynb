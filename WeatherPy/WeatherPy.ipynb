{
 "cells": [
  {
   "cell_type": "markdown",
   "metadata": {},
   "source": [
    "# WeatherPy\n",
    "----\n",
    "\n",
    "#### Note\n",
    "* Instructions have been included for each segment. You do not have to follow them exactly, but they are included to help you think through the steps."
   ]
  },
  {
   "cell_type": "code",
   "execution_count": 5,
   "metadata": {
    "scrolled": true
   },
   "outputs": [],
   "source": [
    "# Dependencies and Setup\n",
    "import matplotlib.pyplot as plt\n",
    "import pandas as pd\n",
    "import numpy as np\n",
    "import requests\n",
    "import time\n",
    "from scipy.stats import linregress\n",
    "\n",
    "# Import API key\n",
    "from api_keys import weather_api_key\n",
    "\n",
    "# Incorporated citipy to determine city based on latitude and longitude\n",
    "from citipy import citipy\n",
    "\n",
    "# Output File (CSV)\n",
    "output_data_file = \"output_data/cities.csv\"\n",
    "\n",
    "# Range of latitudes and longitudes\n",
    "lat_range = (-90, 90)\n",
    "lng_range = (-180, 180)"
   ]
  },
  {
   "cell_type": "markdown",
   "metadata": {},
   "source": [
    "## Generate Cities List"
   ]
  },
  {
   "cell_type": "code",
   "execution_count": 6,
   "metadata": {},
   "outputs": [
    {
     "data": {
      "text/plain": [
       "603"
      ]
     },
     "execution_count": 6,
     "metadata": {},
     "output_type": "execute_result"
    }
   ],
   "source": [
    "# List for holding lat_lngs and cities\n",
    "lat_lngs = []\n",
    "cities = []\n",
    "\n",
    "# Create a set of random lat and lng combinations\n",
    "lats = np.random.uniform(lat_range[0], lat_range[1], size=1500)\n",
    "lngs = np.random.uniform(lng_range[0], lng_range[1], size=1500)\n",
    "lat_lngs = zip(lats, lngs)\n",
    "\n",
    "# Identify nearest city for each lat, lng combination\n",
    "for lat_lng in lat_lngs:\n",
    "    city = citipy.nearest_city(lat_lng[0], lat_lng[1]).city_name\n",
    "    \n",
    "    # If the city is unique, then add it to a our cities list\n",
    "    if city not in cities:\n",
    "        cities.append(city)\n",
    "\n",
    "# Print the city count to confirm sufficient count\n",
    "len(cities)"
   ]
  },
  {
   "cell_type": "markdown",
   "metadata": {},
   "source": [
    "### Perform API Calls\n",
    "* Perform a weather check on each city using a series of successive API calls.\n",
    "* Include a print log of each city as it'sbeing processed (with the city number and city name).\n"
   ]
  },
  {
   "cell_type": "code",
   "execution_count": 7,
   "metadata": {
    "scrolled": true
   },
   "outputs": [
    {
     "name": "stdout",
     "output_type": "stream",
     "text": [
      "albany\n",
      "1 || albany\n",
      "ushuaia\n",
      "2 || ushuaia\n",
      "caravelas\n",
      "3 || caravelas\n",
      "anadyr\n",
      "4 || anadyr\n",
      "severo-kurilsk\n",
      "5 || severo-kurilsk\n",
      "takoradi\n",
      "6 || takoradi\n",
      "amderma\n",
      "city not found\n",
      "north platte\n",
      "7 || north platte\n",
      "uhryniv\n",
      "8 || uhryniv\n",
      "cape town\n",
      "9 || cape town\n"
     ]
    }
   ],
   "source": [
    "# Call API\n",
    "base_url = \"http://api.openweathermap.org/data/2.5/weather?\"\n",
    "units = \"imperial\"\n",
    "query_url = base_url + \"&appid=\" + weather_api_key + \"&q=\" + city + \"&units=\" + units\n",
    "\n",
    "# Create lists to hold API data\n",
    "lats = []\n",
    "lngs = []\n",
    "temps = []\n",
    "hums = []\n",
    "winds = []\n",
    "clouds = []\n",
    "countries = []\n",
    "dates = []\n",
    "city_count = []\n",
    "\n",
    "# Create loop for request and response\n",
    "counter = 0\n",
    "\n",
    "for city in cities[:10]:\n",
    "    query_url = base_url + \"&appid=\" + weather_api_key + \"&q=\" + city + \"&units=\" + units\n",
    "    print(city)\n",
    "    response = requests.get(query_url)\n",
    "    \n",
    "    # Add responses to lists and continue if city is not found\n",
    "    # Print counter and city - add sleep time between calls\n",
    "    try:\n",
    "        response = response.json()\n",
    "        lngs.append(response['coord']['lon'])\n",
    "        lats.append(response['coord']['lat'])\n",
    "        temps.append(response['main']['temp_max'])\n",
    "        hums.append(response['main']['humidity'])\n",
    "        winds.append(response['wind']['speed'])\n",
    "        clouds.append(response['clouds']['all'])\n",
    "        dates.append(response['dt'])\n",
    "        countries.append(response['sys']['country'])\n",
    "        city_count.append(city)\n",
    "        counter = counter +1\n",
    "        print(f\"{counter} || {city}\")\n",
    "        time.sleep(1)\n",
    "    except:\n",
    "        print(\"city not found\")\n",
    "    "
   ]
  },
  {
   "cell_type": "markdown",
   "metadata": {},
   "source": [
    "### Convert Raw Data to DataFrame\n",
    "* Export the city data into a .csv.\n",
    "* Display the DataFrame"
   ]
  },
  {
   "cell_type": "code",
   "execution_count": 8,
   "metadata": {},
   "outputs": [
    {
     "data": {
      "text/html": [
       "<div>\n",
       "<style scoped>\n",
       "    .dataframe tbody tr th:only-of-type {\n",
       "        vertical-align: middle;\n",
       "    }\n",
       "\n",
       "    .dataframe tbody tr th {\n",
       "        vertical-align: top;\n",
       "    }\n",
       "\n",
       "    .dataframe thead th {\n",
       "        text-align: right;\n",
       "    }\n",
       "</style>\n",
       "<table border=\"1\" class=\"dataframe\">\n",
       "  <thead>\n",
       "    <tr style=\"text-align: right;\">\n",
       "      <th></th>\n",
       "      <th>City</th>\n",
       "      <th>Lat</th>\n",
       "      <th>Lng</th>\n",
       "      <th>Max Temp</th>\n",
       "      <th>Humidity</th>\n",
       "      <th>Cloudiness</th>\n",
       "      <th>Wind Speed</th>\n",
       "      <th>Country</th>\n",
       "      <th>Date</th>\n",
       "    </tr>\n",
       "  </thead>\n",
       "  <tbody>\n",
       "    <tr>\n",
       "      <th>0</th>\n",
       "      <td>albany</td>\n",
       "      <td>42.60</td>\n",
       "      <td>-73.97</td>\n",
       "      <td>68.00</td>\n",
       "      <td>36</td>\n",
       "      <td>0</td>\n",
       "      <td>1.01</td>\n",
       "      <td>US</td>\n",
       "      <td>1602697702</td>\n",
       "    </tr>\n",
       "    <tr>\n",
       "      <th>1</th>\n",
       "      <td>ushuaia</td>\n",
       "      <td>-54.80</td>\n",
       "      <td>-68.30</td>\n",
       "      <td>44.60</td>\n",
       "      <td>67</td>\n",
       "      <td>40</td>\n",
       "      <td>26.40</td>\n",
       "      <td>AR</td>\n",
       "      <td>1602697880</td>\n",
       "    </tr>\n",
       "    <tr>\n",
       "      <th>2</th>\n",
       "      <td>caravelas</td>\n",
       "      <td>-17.71</td>\n",
       "      <td>-39.25</td>\n",
       "      <td>81.14</td>\n",
       "      <td>65</td>\n",
       "      <td>33</td>\n",
       "      <td>11.90</td>\n",
       "      <td>BR</td>\n",
       "      <td>1602697966</td>\n",
       "    </tr>\n",
       "    <tr>\n",
       "      <th>3</th>\n",
       "      <td>anadyr</td>\n",
       "      <td>64.75</td>\n",
       "      <td>177.48</td>\n",
       "      <td>37.40</td>\n",
       "      <td>84</td>\n",
       "      <td>40</td>\n",
       "      <td>11.18</td>\n",
       "      <td>RU</td>\n",
       "      <td>1602697924</td>\n",
       "    </tr>\n",
       "    <tr>\n",
       "      <th>4</th>\n",
       "      <td>severo-kurilsk</td>\n",
       "      <td>50.68</td>\n",
       "      <td>156.12</td>\n",
       "      <td>43.29</td>\n",
       "      <td>70</td>\n",
       "      <td>55</td>\n",
       "      <td>10.69</td>\n",
       "      <td>RU</td>\n",
       "      <td>1602697968</td>\n",
       "    </tr>\n",
       "  </tbody>\n",
       "</table>\n",
       "</div>"
      ],
      "text/plain": [
       "             City    Lat     Lng  Max Temp  Humidity  Cloudiness  Wind Speed  \\\n",
       "0          albany  42.60  -73.97     68.00        36           0        1.01   \n",
       "1         ushuaia -54.80  -68.30     44.60        67          40       26.40   \n",
       "2       caravelas -17.71  -39.25     81.14        65          33       11.90   \n",
       "3          anadyr  64.75  177.48     37.40        84          40       11.18   \n",
       "4  severo-kurilsk  50.68  156.12     43.29        70          55       10.69   \n",
       "\n",
       "  Country        Date  \n",
       "0      US  1602697702  \n",
       "1      AR  1602697880  \n",
       "2      BR  1602697966  \n",
       "3      RU  1602697924  \n",
       "4      RU  1602697968  "
      ]
     },
     "execution_count": 8,
     "metadata": {},
     "output_type": "execute_result"
    }
   ],
   "source": [
    "# Add lists to dictionary\n",
    "weather_dict = {\n",
    "     \"City\": city_count,\n",
    "     \"Lat\": lats,\n",
    "     \"Lng\": lngs,\n",
    "     \"Max Temp\": temps,\n",
    "     \"Humidity\": hums,\n",
    "     \"Cloudiness\": clouds,\n",
    "     \"Wind Speed\": winds,\n",
    "     \"Country\": countries,\n",
    "     \"Date\": dates\n",
    "}\n",
    "\n",
    "# Create DataFrame\n",
    "city_weather = pd.DataFrame(data = weather_dict)\n",
    "city_weather.head()\n"
   ]
  },
  {
   "cell_type": "code",
   "execution_count": 9,
   "metadata": {},
   "outputs": [
    {
     "name": "stdout",
     "output_type": "stream",
     "text": [
      "/c/classrepo/HomeWork_out/PythonAPI_HW/python-api-challenge/WeatherPy\n"
     ]
    }
   ],
   "source": [
    "# Save city_weather to csv file\n",
    "city_weather.to_csv(\"city_weather.csv\")\n",
    "\n",
    "#verify path\n",
    "!pwd"
   ]
  },
  {
   "cell_type": "code",
   "execution_count": 10,
   "metadata": {},
   "outputs": [
    {
     "data": {
      "text/html": [
       "<div>\n",
       "<style scoped>\n",
       "    .dataframe tbody tr th:only-of-type {\n",
       "        vertical-align: middle;\n",
       "    }\n",
       "\n",
       "    .dataframe tbody tr th {\n",
       "        vertical-align: top;\n",
       "    }\n",
       "\n",
       "    .dataframe thead th {\n",
       "        text-align: right;\n",
       "    }\n",
       "</style>\n",
       "<table border=\"1\" class=\"dataframe\">\n",
       "  <thead>\n",
       "    <tr style=\"text-align: right;\">\n",
       "      <th></th>\n",
       "      <th>Lat</th>\n",
       "      <th>Lng</th>\n",
       "      <th>Max Temp</th>\n",
       "      <th>Humidity</th>\n",
       "      <th>Cloudiness</th>\n",
       "      <th>Wind Speed</th>\n",
       "      <th>Date</th>\n",
       "    </tr>\n",
       "  </thead>\n",
       "  <tbody>\n",
       "    <tr>\n",
       "      <th>count</th>\n",
       "      <td>9.000000</td>\n",
       "      <td>9.000000</td>\n",
       "      <td>9.000000</td>\n",
       "      <td>9.000000</td>\n",
       "      <td>9.000000</td>\n",
       "      <td>9.000000</td>\n",
       "      <td>9.000000e+00</td>\n",
       "    </tr>\n",
       "    <tr>\n",
       "      <th>mean</th>\n",
       "      <td>16.283333</td>\n",
       "      <td>10.295556</td>\n",
       "      <td>58.897778</td>\n",
       "      <td>65.888889</td>\n",
       "      <td>36.222222</td>\n",
       "      <td>11.643333</td>\n",
       "      <td>1.602698e+09</td>\n",
       "    </tr>\n",
       "    <tr>\n",
       "      <th>std</th>\n",
       "      <td>42.966763</td>\n",
       "      <td>98.553421</td>\n",
       "      <td>15.956086</td>\n",
       "      <td>17.567331</td>\n",
       "      <td>30.156997</td>\n",
       "      <td>7.424237</td>\n",
       "      <td>9.056321e+01</td>\n",
       "    </tr>\n",
       "    <tr>\n",
       "      <th>min</th>\n",
       "      <td>-54.800000</td>\n",
       "      <td>-100.770000</td>\n",
       "      <td>37.400000</td>\n",
       "      <td>36.000000</td>\n",
       "      <td>0.000000</td>\n",
       "      <td>1.010000</td>\n",
       "      <td>1.602698e+09</td>\n",
       "    </tr>\n",
       "    <tr>\n",
       "      <th>25%</th>\n",
       "      <td>-17.710000</td>\n",
       "      <td>-68.300000</td>\n",
       "      <td>44.600000</td>\n",
       "      <td>65.000000</td>\n",
       "      <td>20.000000</td>\n",
       "      <td>6.930000</td>\n",
       "      <td>1.602698e+09</td>\n",
       "    </tr>\n",
       "    <tr>\n",
       "      <th>50%</th>\n",
       "      <td>41.120000</td>\n",
       "      <td>-1.760000</td>\n",
       "      <td>64.400000</td>\n",
       "      <td>70.000000</td>\n",
       "      <td>37.000000</td>\n",
       "      <td>10.690000</td>\n",
       "      <td>1.602698e+09</td>\n",
       "    </tr>\n",
       "    <tr>\n",
       "      <th>75%</th>\n",
       "      <td>48.960000</td>\n",
       "      <td>24.690000</td>\n",
       "      <td>68.000000</td>\n",
       "      <td>77.000000</td>\n",
       "      <td>40.000000</td>\n",
       "      <td>11.900000</td>\n",
       "      <td>1.602698e+09</td>\n",
       "    </tr>\n",
       "    <tr>\n",
       "      <th>max</th>\n",
       "      <td>64.750000</td>\n",
       "      <td>177.480000</td>\n",
       "      <td>81.140000</td>\n",
       "      <td>85.000000</td>\n",
       "      <td>100.000000</td>\n",
       "      <td>26.400000</td>\n",
       "      <td>1.602698e+09</td>\n",
       "    </tr>\n",
       "  </tbody>\n",
       "</table>\n",
       "</div>"
      ],
      "text/plain": [
       "             Lat         Lng   Max Temp   Humidity  Cloudiness  Wind Speed  \\\n",
       "count   9.000000    9.000000   9.000000   9.000000    9.000000    9.000000   \n",
       "mean   16.283333   10.295556  58.897778  65.888889   36.222222   11.643333   \n",
       "std    42.966763   98.553421  15.956086  17.567331   30.156997    7.424237   \n",
       "min   -54.800000 -100.770000  37.400000  36.000000    0.000000    1.010000   \n",
       "25%   -17.710000  -68.300000  44.600000  65.000000   20.000000    6.930000   \n",
       "50%    41.120000   -1.760000  64.400000  70.000000   37.000000   10.690000   \n",
       "75%    48.960000   24.690000  68.000000  77.000000   40.000000   11.900000   \n",
       "max    64.750000  177.480000  81.140000  85.000000  100.000000   26.400000   \n",
       "\n",
       "               Date  \n",
       "count  9.000000e+00  \n",
       "mean   1.602698e+09  \n",
       "std    9.056321e+01  \n",
       "min    1.602698e+09  \n",
       "25%    1.602698e+09  \n",
       "50%    1.602698e+09  \n",
       "75%    1.602698e+09  \n",
       "max    1.602698e+09  "
      ]
     },
     "execution_count": 10,
     "metadata": {},
     "output_type": "execute_result"
    }
   ],
   "source": [
    "# Not required - stats\n",
    "city_weather.describe()"
   ]
  },
  {
   "cell_type": "markdown",
   "metadata": {},
   "source": [
    "## Inspect the data and remove the cities where the humidity > 100%.\n",
    "----\n",
    "Skip this step if there are no cities that have humidity > 100%. "
   ]
  },
  {
   "cell_type": "code",
   "execution_count": 11,
   "metadata": {},
   "outputs": [
    {
     "data": {
      "text/html": [
       "<div>\n",
       "<style scoped>\n",
       "    .dataframe tbody tr th:only-of-type {\n",
       "        vertical-align: middle;\n",
       "    }\n",
       "\n",
       "    .dataframe tbody tr th {\n",
       "        vertical-align: top;\n",
       "    }\n",
       "\n",
       "    .dataframe thead th {\n",
       "        text-align: right;\n",
       "    }\n",
       "</style>\n",
       "<table border=\"1\" class=\"dataframe\">\n",
       "  <thead>\n",
       "    <tr style=\"text-align: right;\">\n",
       "      <th></th>\n",
       "      <th>City</th>\n",
       "      <th>Lat</th>\n",
       "      <th>Lng</th>\n",
       "      <th>Max Temp</th>\n",
       "      <th>Humidity</th>\n",
       "      <th>Cloudiness</th>\n",
       "      <th>Wind Speed</th>\n",
       "      <th>Country</th>\n",
       "      <th>Date</th>\n",
       "    </tr>\n",
       "  </thead>\n",
       "  <tbody>\n",
       "    <tr>\n",
       "      <th>0</th>\n",
       "      <td>albany</td>\n",
       "      <td>42.60</td>\n",
       "      <td>-73.97</td>\n",
       "      <td>68.00</td>\n",
       "      <td>36</td>\n",
       "      <td>0</td>\n",
       "      <td>1.01</td>\n",
       "      <td>US</td>\n",
       "      <td>1602697702</td>\n",
       "    </tr>\n",
       "    <tr>\n",
       "      <th>1</th>\n",
       "      <td>ushuaia</td>\n",
       "      <td>-54.80</td>\n",
       "      <td>-68.30</td>\n",
       "      <td>44.60</td>\n",
       "      <td>67</td>\n",
       "      <td>40</td>\n",
       "      <td>26.40</td>\n",
       "      <td>AR</td>\n",
       "      <td>1602697880</td>\n",
       "    </tr>\n",
       "    <tr>\n",
       "      <th>2</th>\n",
       "      <td>caravelas</td>\n",
       "      <td>-17.71</td>\n",
       "      <td>-39.25</td>\n",
       "      <td>81.14</td>\n",
       "      <td>65</td>\n",
       "      <td>33</td>\n",
       "      <td>11.90</td>\n",
       "      <td>BR</td>\n",
       "      <td>1602697966</td>\n",
       "    </tr>\n",
       "    <tr>\n",
       "      <th>3</th>\n",
       "      <td>anadyr</td>\n",
       "      <td>64.75</td>\n",
       "      <td>177.48</td>\n",
       "      <td>37.40</td>\n",
       "      <td>84</td>\n",
       "      <td>40</td>\n",
       "      <td>11.18</td>\n",
       "      <td>RU</td>\n",
       "      <td>1602697924</td>\n",
       "    </tr>\n",
       "    <tr>\n",
       "      <th>4</th>\n",
       "      <td>severo-kurilsk</td>\n",
       "      <td>50.68</td>\n",
       "      <td>156.12</td>\n",
       "      <td>43.29</td>\n",
       "      <td>70</td>\n",
       "      <td>55</td>\n",
       "      <td>10.69</td>\n",
       "      <td>RU</td>\n",
       "      <td>1602697968</td>\n",
       "    </tr>\n",
       "    <tr>\n",
       "      <th>5</th>\n",
       "      <td>takoradi</td>\n",
       "      <td>4.88</td>\n",
       "      <td>-1.76</td>\n",
       "      <td>78.06</td>\n",
       "      <td>85</td>\n",
       "      <td>20</td>\n",
       "      <td>10.51</td>\n",
       "      <td>GH</td>\n",
       "      <td>1602697969</td>\n",
       "    </tr>\n",
       "    <tr>\n",
       "      <th>6</th>\n",
       "      <td>north platte</td>\n",
       "      <td>41.12</td>\n",
       "      <td>-100.77</td>\n",
       "      <td>64.40</td>\n",
       "      <td>39</td>\n",
       "      <td>1</td>\n",
       "      <td>19.46</td>\n",
       "      <td>US</td>\n",
       "      <td>1602697971</td>\n",
       "    </tr>\n",
       "    <tr>\n",
       "      <th>7</th>\n",
       "      <td>uhryniv</td>\n",
       "      <td>48.96</td>\n",
       "      <td>24.69</td>\n",
       "      <td>48.20</td>\n",
       "      <td>70</td>\n",
       "      <td>100</td>\n",
       "      <td>6.71</td>\n",
       "      <td>UA</td>\n",
       "      <td>1602697972</td>\n",
       "    </tr>\n",
       "    <tr>\n",
       "      <th>8</th>\n",
       "      <td>cape town</td>\n",
       "      <td>-33.93</td>\n",
       "      <td>18.42</td>\n",
       "      <td>64.99</td>\n",
       "      <td>77</td>\n",
       "      <td>37</td>\n",
       "      <td>6.93</td>\n",
       "      <td>ZA</td>\n",
       "      <td>1602697849</td>\n",
       "    </tr>\n",
       "  </tbody>\n",
       "</table>\n",
       "</div>"
      ],
      "text/plain": [
       "             City    Lat     Lng  Max Temp  Humidity  Cloudiness  Wind Speed  \\\n",
       "0          albany  42.60  -73.97     68.00        36           0        1.01   \n",
       "1         ushuaia -54.80  -68.30     44.60        67          40       26.40   \n",
       "2       caravelas -17.71  -39.25     81.14        65          33       11.90   \n",
       "3          anadyr  64.75  177.48     37.40        84          40       11.18   \n",
       "4  severo-kurilsk  50.68  156.12     43.29        70          55       10.69   \n",
       "5        takoradi   4.88   -1.76     78.06        85          20       10.51   \n",
       "6    north platte  41.12 -100.77     64.40        39           1       19.46   \n",
       "7         uhryniv  48.96   24.69     48.20        70         100        6.71   \n",
       "8       cape town -33.93   18.42     64.99        77          37        6.93   \n",
       "\n",
       "  Country        Date  \n",
       "0      US  1602697702  \n",
       "1      AR  1602697880  \n",
       "2      BR  1602697966  \n",
       "3      RU  1602697924  \n",
       "4      RU  1602697968  \n",
       "5      GH  1602697969  \n",
       "6      US  1602697971  \n",
       "7      UA  1602697972  \n",
       "8      ZA  1602697849  "
      ]
     },
     "execution_count": 11,
     "metadata": {},
     "output_type": "execute_result"
    }
   ],
   "source": [
    "# Get the indices of cities that have humidity over 100%.\n",
    "max_humidity = city_weather[city_weather[\"Humidity\"] > 100].index\n",
    "\n",
    "# Droup cities with humidity > 100 creating a new DataFrame\n",
    "clean_city_weather = city_weather.drop(max_humidity, inplace=False)\n",
    "clean_city_weather"
   ]
  },
  {
   "cell_type": "markdown",
   "metadata": {},
   "source": [
    "## Plotting the Data\n",
    "* Use proper labeling of the plots using plot titles (including date of analysis) and axes labels.\n",
    "* Save the plotted figures as .pngs."
   ]
  },
  {
   "cell_type": "markdown",
   "metadata": {},
   "source": [
    "## Latitude vs. Temperature Plot"
   ]
  },
  {
   "cell_type": "code",
   "execution_count": 17,
   "metadata": {},
   "outputs": [],
   "source": [
    "# Scatter plot of latitude vs max tempurature\n",
    "def latitude_plots(compare):\n",
    "    plt.scatter(clean_city_weather[\"Lat\"], clean_city_weather[compare], marker=\"o\")\n",
    "    \n",
    "    # Graph properties\n",
    "    plt.title(f\"City Latitude vs {compare} (10/13/2020)\")\n",
    "    plt.ylabel(compare)\n",
    "    plt.xlabel(\"Latitude\")\n",
    "    plt.grid(True)\n",
    "\n",
    "    # Save figure\n",
    "    plt.savefig(f\"Lat_vs_{compare}.png\")\n",
    "\n",
    "    # Display\n",
    "    plt.show()"
   ]
  },
  {
   "cell_type": "code",
   "execution_count": 18,
   "metadata": {},
   "outputs": [
    {
     "data": {
      "image/png": "[encoded data removed]",
      "text/plain": [
       "<Figure size 432x288 with 1 Axes>"
      ]
     },
     "metadata": {
      "needs_background": "light"
     },
     "output_type": "display_data"
    },
    {
     "data": {
      "image/png": "[encoded data removed]",
      "text/plain": [
       "<Figure size 432x288 with 1 Axes>"
      ]
     },
     "metadata": {
      "needs_background": "light"
     },
     "output_type": "display_data"
    },
    {
     "data": {
      "image/png": "[encoded data removed]",
      "text/plain": [
       "<Figure size 432x288 with 1 Axes>"
      ]
     },
     "metadata": {
      "needs_background": "light"
     },
     "output_type": "display_data"
    },
    {
     "data": {
      "image/png": "[encoded data removed]",
      "text/plain": [
       "<Figure size 432x288 with 1 Axes>"
      ]
     },
     "metadata": {
      "needs_background": "light"
     },
     "output_type": "display_data"
    }
   ],
   "source": [
    "compare_list = [\"Max Temp\", \"Humidity\", \"Cloudiness\", \"Wind Speed\"]\n",
    "for compare in compare_list:\n",
    "    latitude_plots(compare)"
   ]
  },
  {
   "cell_type": "markdown",
   "metadata": {},
   "source": [
    "## Latitude vs. Humidity Plot"
   ]
  },
  {
   "cell_type": "markdown",
   "metadata": {},
   "source": [
    "## Latitude vs. Cloudiness Plot"
   ]
  },
  {
   "cell_type": "markdown",
   "metadata": {},
   "source": [
    "## Latitude vs. Wind Speed Plot"
   ]
  },
  {
   "cell_type": "markdown",
   "metadata": {},
   "source": [
    "## Linear Regression"
   ]
  },
  {
   "cell_type": "code",
   "execution_count": null,
   "metadata": {},
   "outputs": [],
   "source": [
    "\n"
   ]
  },
  {
   "cell_type": "markdown",
   "metadata": {},
   "source": [
    "####  Northern Hemisphere - Max Temp vs. Latitude Linear Regression"
   ]
  },
  {
   "cell_type": "code",
   "execution_count": 43,
   "metadata": {},
   "outputs": [
    {
     "name": "stdout",
     "output_type": "stream",
     "text": [
      "y = -1.46x +115.94\n",
      "The r-value is: 0.9256436372025598\n"
     ]
    },
    {
     "data": {
      "image/png": "[encoded data removed]",
      "text/plain": [
       "<Figure size 432x288 with 1 Axes>"
      ]
     },
     "metadata": {
      "needs_background": "light"
     },
     "output_type": "display_data"
    }
   ],
   "source": [
    "# Separate out northern hemisphere\n",
    "northern_df = clean_city_weather.loc[clean_city_weather[\"Lat\"] >= 0]\n",
    "\n",
    "# Define X and Y values\n",
    "x_values = northern_df['Lat']\n",
    "y_values = northern_df['Max Temp']\n",
    "\n",
    "# Perform linear regression\n",
    "(slope, intercept, rvalue, pvalue, stderr) = linregress(x_values, y_values)\n",
    "regress_values = x_values * slope + intercept\n",
    "\n",
    "# Create line equation string\n",
    "line_eq = \"y = \" + str(round(slope,2)) + \"x +\" + str(round(intercept,2))\n",
    "print(line_eq)\n",
    "\n",
    "# Create and lable plot\n",
    "plt.scatter(x_values,y_values)\n",
    "plt.plot(x_values,regress_values, \"r-\")\n",
    "plt.xlabel('Latitude')\n",
    "plt.ylabel('Max Temperature')\n",
    "plt.annotate(line_eq,(20,15),fontsize=15,color=\"red\")\n",
    "\n",
    "# Print r value\n",
    "print(f\"The r-value is: {rvalue**2}\")\n",
    "\n",
    "# Display graph\n",
    "plt.show()"
   ]
  },
  {
   "cell_type": "markdown",
   "metadata": {},
   "source": [
    "####  Southern Hemisphere - Max Temp vs. Latitude Linear Regression"
   ]
  },
  {
   "cell_type": "code",
   "execution_count": 47,
   "metadata": {},
   "outputs": [
    {
     "name": "stdout",
     "output_type": "stream",
     "text": [
      "y = -1.46x +115.94\n",
      "The r-value is: 0.9256436372025598\n"
     ]
    },
    {
     "data": {
      "image/png": "[encoded data removed]",
      "text/plain": [
       "<Figure size 432x288 with 1 Axes>"
      ]
     },
     "metadata": {
      "needs_background": "light"
     },
     "output_type": "display_data"
    }
   ],
   "source": [
    "# Separate out southern hemisphere\n",
    "southern_df = clean_city_weather.loc[clean_city_weather[\"Lat\"] >= 0]\n",
    "\n",
    "# Define X and Y values\n",
    "x_values = southern_df['Lat']\n",
    "y_values = southern_df['Max Temp']\n",
    "\n",
    "# Perform linear regression\n",
    "(slope, intercept, rvalue, pvalue, stderr) = linregress(x_values, y_values)\n",
    "regress_values = x_values * slope + intercept\n",
    "\n",
    "# Create line equation string\n",
    "line_eq = \"y = \" + str(round(slope,2)) + \"x +\" + str(round(intercept,2))\n",
    "print(line_eq)\n",
    "\n",
    "# Create and lable plot\n",
    "plt.scatter(x_values,y_values)\n",
    "plt.plot(x_values,regress_values, \"r-\")\n",
    "plt.xlabel('Latitude')\n",
    "plt.ylabel('Max Temperature')\n",
    "plt.annotate(line_eq,(20,15),fontsize=15,color=\"red\")\n",
    "\n",
    "# Print r value\n",
    "print(f\"The r-value is: {rvalue**2}\")\n",
    "\n",
    "# Display graph\n",
    "plt.show()"
   ]
  },
  {
   "cell_type": "markdown",
   "metadata": {},
   "source": [
    "####  Northern Hemisphere - Humidity (%) vs. Latitude Linear Regression"
   ]
  },
  {
   "cell_type": "code",
   "execution_count": 44,
   "metadata": {},
   "outputs": [
    {
     "name": "stdout",
     "output_type": "stream",
     "text": [
      "y = 1.82x +13.62\n",
      "The r-value is: 0.46463700802499586\n"
     ]
    },
    {
     "data": {
      "image/png": "[encoded data removed]",
      "text/plain": [
       "<Figure size 432x288 with 1 Axes>"
      ]
     },
     "metadata": {
      "needs_background": "light"
     },
     "output_type": "display_data"
    }
   ],
   "source": [
    "# Separate out northern hemisphere\n",
    "northern_df = clean_city_weather.loc[clean_city_weather[\"Lat\"] >= 0]\n",
    "\n",
    "# Define X and Y values\n",
    "x_values = northern_df['Lat']\n",
    "y_values = northern_df['Humidity']\n",
    "\n",
    "# Perform linear regression\n",
    "(slope, intercept, rvalue, pvalue, stderr) = linregress(x_values, y_values)\n",
    "regress_values = x_values * slope + intercept\n",
    "\n",
    "# Create line equation string\n",
    "line_eq = \"y = \" + str(round(slope,2)) + \"x +\" + str(round(intercept,2))\n",
    "print(line_eq)\n",
    "\n",
    "# Create and lable plot\n",
    "plt.scatter(x_values,y_values)\n",
    "plt.plot(x_values,regress_values, \"r-\")\n",
    "plt.xlabel('Latitude')\n",
    "plt.ylabel('Humidity (%)')\n",
    "plt.annotate(line_eq,(20,15),fontsize=15,color=\"red\")\n",
    "\n",
    "# Print r value\n",
    "print(f\"The r-value is: {rvalue**2}\")\n",
    "\n",
    "# Display graph\n",
    "plt.show()"
   ]
  },
  {
   "cell_type": "markdown",
   "metadata": {},
   "source": [
    "####  Southern Hemisphere - Humidity (%) vs. Latitude Linear Regression"
   ]
  },
  {
   "cell_type": "code",
   "execution_count": 52,
   "metadata": {},
   "outputs": [
    {
     "name": "stdout",
     "output_type": "stream",
     "text": [
      "y = 1.82x +13.62\n",
      "The r-value is: 0.46463700802499586\n"
     ]
    },
    {
     "data": {
      "image/png": "[encoded data removed]",
      "text/plain": [
       "<Figure size 432x288 with 1 Axes>"
      ]
     },
     "metadata": {
      "needs_background": "light"
     },
     "output_type": "display_data"
    }
   ],
   "source": [
    "# Separate out southern hemisphere\n",
    "southern_df = clean_city_weather.loc[clean_city_weather[\"Lat\"] >= 0]\n",
    "\n",
    "# Define X and Y values\n",
    "x_values = southern_df['Lat']\n",
    "y_values = southern_df['Humidity']\n",
    "\n",
    "# Perform linear regression\n",
    "(slope, intercept, rvalue, pvalue, stderr) = linregress(x_values, y_values)\n",
    "regress_values = x_values * slope + intercept\n",
    "\n",
    "# Create line equation string\n",
    "line_eq = \"y = \" + str(round(slope,2)) + \"x +\" + str(round(intercept,2))\n",
    "print(line_eq)\n",
    "\n",
    "# Create and lable plot\n",
    "plt.scatter(x_values,y_values)\n",
    "plt.plot(x_values,regress_values, \"r-\")\n",
    "plt.xlabel('Latitude')\n",
    "plt.ylabel('Humidity (%)')\n",
    "plt.annotate(line_eq,(20,15),fontsize=15,color=\"red\")\n",
    "\n",
    "# Print r value\n",
    "print(f\"The r-value is: {rvalue**2}\")\n",
    "\n",
    "# Display graph\n",
    "plt.show()"
   ]
  },
  {
   "cell_type": "markdown",
   "metadata": {},
   "source": [
    "####  Northern Hemisphere - Cloudiness (%) vs. Latitude Linear Regression"
   ]
  },
  {
   "cell_type": "code",
   "execution_count": 51,
   "metadata": {
    "scrolled": true
   },
   "outputs": [
    {
     "name": "stdout",
     "output_type": "stream",
     "text": [
      "y = 0.4x +83.72\n",
      "The r-value is: 0.31563193292145136\n"
     ]
    },
    {
     "data": {
      "image/png": "[encoded data removed]",
      "text/plain": [
       "<Figure size 432x288 with 1 Axes>"
      ]
     },
     "metadata": {
      "needs_background": "light"
     },
     "output_type": "display_data"
    }
   ],
   "source": [
    "# Separate out northern hemisphere\n",
    "northern_df = clean_city_weather.loc[clean_city_weather[\"Lat\"] >= 0]\n",
    "\n",
    "# Define X and Y values\n",
    "x_values = northern_df['Lat']\n",
    "y_values = northern_df['Cloudiness']\n",
    "\n",
    "# Perform linear regression\n",
    "(slope, intercept, rvalue, pvalue, stderr) = linregress(x_values, y_values)\n",
    "regress_values = x_values * slope + intercept\n",
    "\n",
    "# Create line equation string\n",
    "line_eq = \"y = \" + str(round(slope,2)) + \"x +\" + str(round(intercept,2))\n",
    "print(line_eq)\n",
    "\n",
    "# Create and lable plot\n",
    "plt.scatter(x_values,y_values)\n",
    "plt.plot(x_values,regress_values, \"r-\")\n",
    "plt.xlabel('Latitude')\n",
    "plt.ylabel('Cloudiness (%)')\n",
    "plt.annotate(line_eq,(20,15),fontsize=15,color=\"red\")\n",
    "\n",
    "# Print r value\n",
    "print(f\"The r-value is: {rvalue**2}\")\n",
    "\n",
    "# Display graph\n",
    "plt.show()"
   ]
  },
  {
   "cell_type": "markdown",
   "metadata": {},
   "source": [
    "####  Southern Hemisphere - Cloudiness (%) vs. Latitude Linear Regression"
   ]
  },
  {
   "cell_type": "code",
   "execution_count": 50,
   "metadata": {},
   "outputs": [
    {
     "name": "stdout",
     "output_type": "stream",
     "text": [
      "y = 0.4x +83.72\n",
      "The r-value is: 0.31563193292145136\n"
     ]
    },
    {
     "data": {
      "image/png": "[encoded data removed]",
      "text/plain": [
       "<Figure size 432x288 with 1 Axes>"
      ]
     },
     "metadata": {
      "needs_background": "light"
     },
     "output_type": "display_data"
    }
   ],
   "source": [
    "# Separate out southern hemisphere\n",
    "southern_df = clean_city_weather.loc[clean_city_weather[\"Lat\"] >= 0]\n",
    "\n",
    "# Define X and Y values\n",
    "x_values = southern_df['Lat']\n",
    "y_values = southern_df['Cloudiness']\n",
    "\n",
    "# Perform linear regression\n",
    "(slope, intercept, rvalue, pvalue, stderr) = linregress(x_values, y_values)\n",
    "regress_values = x_values * slope + intercept\n",
    "\n",
    "# Create line equation string\n",
    "line_eq = \"y = \" + str(round(slope,2)) + \"x +\" + str(round(intercept,2))\n",
    "print(line_eq)\n",
    "\n",
    "# Create and lable plot\n",
    "plt.scatter(x_values,y_values)\n",
    "plt.plot(x_values,regress_values, \"r-\")\n",
    "plt.xlabel('Latitude')\n",
    "plt.ylabel('Cloudines (%)')\n",
    "plt.annotate(line_eq,(20,15),fontsize=15,color=\"red\")\n",
    "\n",
    "# Print r value\n",
    "print(f\"The r-value is: {rvalue**2}\")\n",
    "\n",
    "# Display graph\n",
    "plt.show()"
   ]
  },
  {
   "cell_type": "markdown",
   "metadata": {},
   "source": [
    "####  Northern Hemisphere - Wind Speed (mph) vs. Latitude Linear Regression"
   ]
  },
  {
   "cell_type": "code",
   "execution_count": 49,
   "metadata": {},
   "outputs": [
    {
     "name": "stdout",
     "output_type": "stream",
     "text": [
      "y = -0.24x +15.94\n",
      "The r-value is: 0.1408204398369378\n"
     ]
    },
    {
     "data": {
      "image/png": "[encoded data removed]",
      "text/plain": [
       "<Figure size 432x288 with 1 Axes>"
      ]
     },
     "metadata": {
      "needs_background": "light"
     },
     "output_type": "display_data"
    }
   ],
   "source": [
    "# Separate out northern hemisphere\n",
    "northern_df = clean_city_weather.loc[clean_city_weather[\"Lat\"] >= 0]\n",
    "\n",
    "# Define X and Y values\n",
    "x_values = northern_df['Lat']\n",
    "y_values = northern_df['Wind Speed']\n",
    "\n",
    "# Perform linear regression\n",
    "(slope, intercept, rvalue, pvalue, stderr) = linregress(x_values, y_values)\n",
    "regress_values = x_values * slope + intercept\n",
    "\n",
    "# Create line equation string\n",
    "line_eq = \"y = \" + str(round(slope,2)) + \"x +\" + str(round(intercept,2))\n",
    "print(line_eq)\n",
    "\n",
    "# Create and lable plot\n",
    "plt.scatter(x_values,y_values)\n",
    "plt.plot(x_values,regress_values, \"r-\")\n",
    "plt.xlabel('Latitude')\n",
    "plt.ylabel('Wind Speed')\n",
    "plt.annotate(line_eq,(20,15),fontsize=15,color=\"red\")\n",
    "\n",
    "# Print r value\n",
    "print(f\"The r-value is: {rvalue**2}\")\n",
    "\n",
    "# Display graph\n",
    "plt.show()"
   ]
  },
  {
   "cell_type": "markdown",
   "metadata": {},
   "source": [
    "####  Southern Hemisphere - Wind Speed (mph) vs. Latitude Linear Regression"
   ]
  },
  {
   "cell_type": "code",
   "execution_count": 48,
   "metadata": {},
   "outputs": [
    {
     "name": "stdout",
     "output_type": "stream",
     "text": [
      "y = -0.24x +15.94\n",
      "The r-value is: 0.1408204398369378\n"
     ]
    },
    {
     "data": {
      "image/png": "[encoded data removed]",
      "text/plain": [
       "<Figure size 432x288 with 1 Axes>"
      ]
     },
     "metadata": {
      "needs_background": "light"
     },
     "output_type": "display_data"
    }
   ],
   "source": [
    "# Separate out southern hemisphere\n",
    "southern_df = clean_city_weather.loc[clean_city_weather[\"Lat\"] >= 0]\n",
    "\n",
    "# Define X and Y values\n",
    "x_values = southern_df['Lat']\n",
    "y_values = southern_df['Wind Speed']\n",
    "\n",
    "# Perform linear regression\n",
    "(slope, intercept, rvalue, pvalue, stderr) = linregress(x_values, y_values)\n",
    "regress_values = x_values * slope + intercept\n",
    "\n",
    "# Create line equation string\n",
    "line_eq = \"y = \" + str(round(slope,2)) + \"x +\" + str(round(intercept,2))\n",
    "print(line_eq)\n",
    "\n",
    "# Create and lable plot\n",
    "plt.scatter(x_values,y_values)\n",
    "plt.plot(x_values,regress_values, \"r-\")\n",
    "plt.xlabel('Latitude')\n",
    "plt.ylabel('Wind Speed')\n",
    "plt.annotate(line_eq,(20,15),fontsize=15,color=\"red\")\n",
    "\n",
    "# Print r value\n",
    "print(f\"The r-value is: {rvalue**2}\")\n",
    "\n",
    "# Display graph\n",
    "plt.show()"
   ]
  }
 ],
 "metadata": {
  "anaconda-cloud": {},
  "kernel_info": {
   "name": "python3"
  },
  "kernelspec": {
   "display_name": "Python 3",
   "language": "python",
   "name": "python3"
  },
  "language_info": {
   "codemirror_mode": {
    "name": "ipython",
    "version": 3
   },
   "file_extension": ".py",
   "mimetype": "text/x-python",
   "name": "python",
   "nbconvert_exporter": "python",
   "pygments_lexer": "ipython3",
   "version": "3.8.3"
  },
  "latex_envs": {
   "LaTeX_envs_menu_present": true,
   "autoclose": false,
   "autocomplete": true,
   "bibliofile": "biblio.bib",
   "cite_by": "apalike",
   "current_citInitial": 1,
   "eqLabelWithNumbers": true,
   "eqNumInitial": 1,
   "hotkeys": {
    "equation": "Ctrl-E",
    "itemize": "Ctrl-I"
   },
   "labels_anchors": false,
   "latex_user_defs": false,
   "report_style_numbering": false,
   "user_envs_cfg": false
  },
  "nteract": {
   "version": "0.12.3"
  }
 },
 "nbformat": 4,
 "nbformat_minor": 2
}
